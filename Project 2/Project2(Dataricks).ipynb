{
 "cells": [
  {
   "cell_type": "code",
   "execution_count": 0,
   "metadata": {
    "application/vnd.databricks.v1+cell": {
     "cellMetadata": {
      "byteLimit": 2048000,
      "rowLimit": 10000
     },
     "inputWidgets": {},
     "nuid": "d0a000ad-a119-4562-9bcf-9857eb6685df",
     "showTitle": false,
     "title": ""
    }
   },
   "outputs": [
    {
     "name": "stdout",
     "output_type": "stream",
     "text": [
      "+------+-------------+-------------------+------------+-------------+-------------------+\n",
      "|UserID|     UserName|              Email| PhoneNumber|      Address| AccountCreatedDate|\n",
      "+------+-------------+-------------------+------------+-------------+-------------------+\n",
      "|     1|Alice Johnson|  alice@example.com|123-456-7890| 123 Maple St|2023-01-15 08:30:00|\n",
      "|     2|    Bob Smith|    bob@example.com|098-765-4321|   456 Oak St|2022-11-20 10:00:00|\n",
      "|     3|Charlie Brown|charlie@example.com|555-555-5555|  789 Pine St|2023-06-01 09:45:00|\n",
      "|     4|  David Green|  david@example.com|222-333-4444| 101 Birch St|2022-09-15 10:00:00|\n",
      "|     5|  Emily White|   mily@example.com|333-444-5555| 202 Cedar St|2023-02-05 11:30:00|\n",
      "|     6|    Frank Lee|  frank@example.com|444-555-6666|303 Walnut St|2022-12-25 16:00:00|\n",
      "|     7|    Grace Kim|  grace@example.com|555-666-7777|   404 Ash St|2023-03-18 14:20:00|\n",
      "+------+-------------+-------------------+------------+-------------+-------------------+\n",
      "\n",
      "+-------------+-------+------------------+--------------------+-------------------+--------------+------------------+-----------+\n",
      "|TransactionID| UserID| TransactionAmount| TransactionLocation|    TransactionTime| PaymentMethod| TransactionStatus| FraudLabel|\n",
      "+-------------+-------+------------------+--------------------+-------------------+--------------+------------------+-----------+\n",
      "|         1001|    1.0|             200.5|            New York|2023-09-01 12:30:00|   Credit Card|         Completed|        0.0|\n",
      "|         1002|    1.0|            5000.0|         Los Angeles|2023-09-02 13:15:00|    Debit Card|         Completed|        1.0|\n",
      "|         1003|    2.0|             150.0|       San Francisco|2023-09-03 15:45:00|        PayPal|           Pending|        0.0|\n",
      "|         1004|    3.0|             750.0|             Chicago|2023-09-04 18:00:00|   Credit Card|         Completed|        1.0|\n",
      "|         1005|    2.0|              80.0|               Miami|2023-09-05 09:20:00|    Debit Card|         Completed|        0.0|\n",
      "|         1006|    4.0|             350.0|             Houston|2023-09-05 11:30:00|   Credit Card|         Completed|        0.0|\n",
      "|         1007|    4.0|           12000.0|              Dallas|2023-09-06 12:00:00|   Credit Card|         Completed|        1.0|\n",
      "|         1008|    5.0|             100.0|              Boston|2023-09-06 14:45:00|    Debit Card|         Completed|        0.0|\n",
      "|         1009|    6.0|             250.0|            New York|2023-09-07 15:30:00|        PayPal|           Pending|        0.0|\n",
      "|         1010|    7.0|             650.0|             Chicago|2023-09-08 16:00:00|   Credit Card|         Completed|        1.0|\n",
      "|         1011|    6.0|            5400.0|           San Diego|2023-09-09 17:00:00|    Debit Card|         Completed|        1.0|\n",
      "|         1012|    5.0|             175.0|             Seattle|2023-09-10 18:30:00|   Credit Card|         Completed|        0.0|\n",
      "+-------------+-------+------------------+--------------------+-------------------+--------------+------------------+-----------+\n",
      "\n",
      "+-------+--------------+--------------------+-------------------+\n",
      "|LabelID| TransactionID|         FraudReason|        DateLabeled|\n",
      "+-------+--------------+--------------------+-------------------+\n",
      "|      1|        1002.0|Suspiciously High...|2023-09-02 14:00:00|\n",
      "|      2|        1004.0|    Unusual Location|2023-09-04 19:00:00|\n",
      "|      3|        1007.0|Unusually High Am...|2023-09-06 12:30:00|\n",
      "|      4|        1010.0|Transaction in Un...|2023-09-08 16:30:00|\n",
      "|      5|        1011.0|Multiple Large Tr...|2023-09-09 17:30:00|\n",
      "+-------+--------------+--------------------+-------------------+\n",
      "\n"
     ]
    }
   ],
   "source": [
    "# Load CSV files\n",
    "user_df = spark.read.csv(\"dbfs:/FileStore/shared_uploads/varshinie.1006@gmail.com/user.csv\", header=True, inferSchema=True)\n",
    "transaction_df = spark.read.csv(\"dbfs:/FileStore/shared_uploads/varshinie.1006@gmail.com/transaction.csv\", header=True, inferSchema=True)\n",
    "fraud_df = spark.read.csv(\"dbfs:/FileStore/shared_uploads/varshinie.1006@gmail.com/fraud.csv\", header=True, inferSchema=True)\n",
    "\n",
    "# Display DataFrames\n",
    "user_df.show()\n",
    "transaction_df.show()\n",
    "fraud_df.show()\n"
   ]
  },
  {
   "cell_type": "code",
   "execution_count": 0,
   "metadata": {
    "application/vnd.databricks.v1+cell": {
     "cellMetadata": {
      "byteLimit": 2048000,
      "rowLimit": 10000
     },
     "inputWidgets": {},
     "nuid": "93157f69-f5ce-4654-b875-bd99c8f5d6bc",
     "showTitle": false,
     "title": ""
    }
   },
   "outputs": [
    {
     "name": "stdout",
     "output_type": "stream",
     "text": [
      "root\n",
      " |-- TransactionID: integer (nullable = true)\n",
      " |-- UserID: double (nullable = true)\n",
      " |-- TransactionAmount: double (nullable = true)\n",
      " |-- TransactionLocation: string (nullable = true)\n",
      " |-- TransactionTime: timestamp (nullable = true)\n",
      " |-- PaymentMethod: string (nullable = true)\n",
      " |-- TransactionStatus: string (nullable = true)\n",
      " |-- FraudLabel: double (nullable = true)\n",
      "\n",
      "+-------+-----------------+------------------+-----------------+-------------------+-------------+-----------------+------------------+\n",
      "|summary|    TransactionID|            UserID|TransactionAmount|TransactionLocation|PaymentMethod|TransactionStatus|        FraudLabel|\n",
      "+-------+-----------------+------------------+-----------------+-------------------+-------------+-----------------+------------------+\n",
      "|  count|               12|                12|               12|                 12|           12|               12|                12|\n",
      "|   mean|           1006.5|3.8333333333333335|         2092.125|               null|         null|             null|0.4166666666666667|\n",
      "| stddev|3.605551275463989|2.0375267241229382|3654.584680575893|               null|         null|             null|0.5149286505444373|\n",
      "|    min|             1001|               1.0|             80.0|             Boston|  Credit Card|        Completed|               0.0|\n",
      "|    max|             1012|               7.0|          12000.0|          San Diego|   Debit Card|          Pending|               1.0|\n",
      "+-------+-----------------+------------------+-----------------+-------------------+-------------+-----------------+------------------+\n",
      "\n",
      "+----------+-----+\n",
      "|FraudLabel|count|\n",
      "+----------+-----+\n",
      "|       0.0|    7|\n",
      "|       1.0|    5|\n",
      "+----------+-----+\n",
      "\n",
      "+-------------+------+-----------------+-------------------+---------------+-------------+-----------------+----------+\n",
      "|TransactionID|UserID|TransactionAmount|TransactionLocation|TransactionTime|PaymentMethod|TransactionStatus|FraudLabel|\n",
      "+-------------+------+-----------------+-------------------+---------------+-------------+-----------------+----------+\n",
      "|            0|     0|                0|                  0|              0|            0|                0|         0|\n",
      "+-------------+------+-----------------+-------------------+---------------+-------------+-----------------+----------+\n",
      "\n"
     ]
    }
   ],
   "source": [
    "#EDA\n",
    "# Show schema to inspect data types\n",
    "transaction_df.printSchema()\n",
    "\n",
    "# Descriptive statistics for transaction data\n",
    "transaction_df.describe().show()\n",
    "\n",
    "# Distribution of fraud labels (0 = legitimate, 1 = fraud)\n",
    "transaction_df.groupBy(\"FraudLabel\").count().show()\n",
    "\n",
    "# Check for missing values\n",
    "from pyspark.sql.functions import col, sum\n",
    "\n",
    "transaction_df.select([sum(col(c).isNull().cast(\"int\")).alias(c) for c in transaction_df.columns]).show()\n"
   ]
  },
  {
   "cell_type": "code",
   "execution_count": 0,
   "metadata": {
    "application/vnd.databricks.v1+cell": {
     "cellMetadata": {
      "byteLimit": 2048000,
      "rowLimit": 10000
     },
     "inputWidgets": {},
     "nuid": "a3b152fa-ad8b-42b0-9b4e-449685b1a98c",
     "showTitle": false,
     "title": ""
    }
   },
   "outputs": [
    {
     "name": "stdout",
     "output_type": "stream",
     "text": [
      "+-------------+------+-----------------+-------------------+-------------------+-------------+-----------------+----------+-------+--------------------+-------------------+\n",
      "|TransactionID|UserID|TransactionAmount|TransactionLocation|    TransactionTime|PaymentMethod|TransactionStatus|FraudLabel|LabelID|         FraudReason|        DateLabeled|\n",
      "+-------------+------+-----------------+-------------------+-------------------+-------------+-----------------+----------+-------+--------------------+-------------------+\n",
      "|         1001|   1.0|            200.5|           New York|2023-09-01 12:30:00|  Credit Card|        Completed|       0.0|   null|                null|               null|\n",
      "|         1002|   1.0|           5000.0|        Los Angeles|2023-09-02 13:15:00|   Debit Card|        Completed|       1.0|      1|Suspiciously High...|2023-09-02 14:00:00|\n",
      "|         1003|   2.0|            150.0|      San Francisco|2023-09-03 15:45:00|       PayPal|          Pending|       0.0|   null|                null|               null|\n",
      "|         1004|   3.0|            750.0|            Chicago|2023-09-04 18:00:00|  Credit Card|        Completed|       1.0|      2|    Unusual Location|2023-09-04 19:00:00|\n",
      "|         1005|   2.0|             80.0|              Miami|2023-09-05 09:20:00|   Debit Card|        Completed|       0.0|   null|                null|               null|\n",
      "|         1006|   4.0|            350.0|            Houston|2023-09-05 11:30:00|  Credit Card|        Completed|       0.0|   null|                null|               null|\n",
      "|         1007|   4.0|          12000.0|             Dallas|2023-09-06 12:00:00|  Credit Card|        Completed|       1.0|      3|Unusually High Am...|2023-09-06 12:30:00|\n",
      "|         1008|   5.0|            100.0|             Boston|2023-09-06 14:45:00|   Debit Card|        Completed|       0.0|   null|                null|               null|\n",
      "|         1009|   6.0|            250.0|           New York|2023-09-07 15:30:00|       PayPal|          Pending|       0.0|   null|                null|               null|\n",
      "|         1010|   7.0|            650.0|            Chicago|2023-09-08 16:00:00|  Credit Card|        Completed|       1.0|      4|Transaction in Un...|2023-09-08 16:30:00|\n",
      "|         1011|   6.0|           5400.0|          San Diego|2023-09-09 17:00:00|   Debit Card|        Completed|       1.0|      5|Multiple Large Tr...|2023-09-09 17:30:00|\n",
      "|         1012|   5.0|            175.0|            Seattle|2023-09-10 18:30:00|  Credit Card|        Completed|       0.0|   null|                null|               null|\n",
      "+-------------+------+-----------------+-------------------+-------------------+-------------+-----------------+----------+-------+--------------------+-------------------+\n",
      "\n"
     ]
    }
   ],
   "source": [
    "# Join transaction data with fraud data using TransactionID\n",
    "labeled_data = transaction_df.join(fraud_df, \"TransactionID\", how=\"left\")\n",
    "\n",
    "# Display the resulting labeled dataset\n",
    "labeled_data.show()\n"
   ]
  },
  {
   "cell_type": "code",
   "execution_count": 0,
   "metadata": {
    "application/vnd.databricks.v1+cell": {
     "cellMetadata": {
      "byteLimit": 2048000,
      "rowLimit": 10000
     },
     "inputWidgets": {},
     "nuid": "a69c5ee2-ea25-4d41-8b64-2134f4725e9c",
     "showTitle": false,
     "title": ""
    }
   },
   "outputs": [],
   "source": [
    "#preprocessing data\n",
    "# Impute missing values (if any)\n",
    "from pyspark.sql.functions import when\n",
    "\n",
    "labeled_data = labeled_data.fillna({\"TransactionAmount\": 0, \"TransactionLocation\": \"Unknown\"})\n",
    "\n",
    "# encoding for categorical variables \n",
    "from pyspark.ml.feature import StringIndexer, OneHotEncoder\n",
    "\n",
    "indexer = StringIndexer(inputCol=\"PaymentMethod\", outputCol=\"PaymentMethodIndex\")\n",
    "encoder = OneHotEncoder(inputCol=\"PaymentMethodIndex\", outputCol=\"PaymentMethodVec\")\n",
    "\n",
    "# Assemble features\n",
    "from pyspark.ml.feature import VectorAssembler\n",
    "\n",
    "assembler = VectorAssembler(inputCols=[\"TransactionAmount\", \"PaymentMethodVec\"], outputCol=\"features\")\n"
   ]
  },
  {
   "cell_type": "code",
   "execution_count": 0,
   "metadata": {
    "application/vnd.databricks.v1+cell": {
     "cellMetadata": {
      "byteLimit": 2048000,
      "rowLimit": 10000
     },
     "inputWidgets": {},
     "nuid": "16c3510e-0dcb-46d2-92ff-d1d43c86c0a8",
     "showTitle": false,
     "title": ""
    }
   },
   "outputs": [
    {
     "name": "stdout",
     "output_type": "stream",
     "text": [
      "+------+-------------+-----------------+-------------------+-------------------+-------------+-----------------+----------+-------+--------------------+-------------------+--------------------+--------------------+-------------------+-----------------------+--------------------+\n",
      "|UserID|TransactionID|TransactionAmount|TransactionLocation|    TransactionTime|PaymentMethod|TransactionStatus|FraudLabel|LabelID|         FraudReason|        DateLabeled|TransactionFrequency|AvgTransactionAmount|PrevTransactionTime|TimeBetweenTransactions|TransactionFrequency|\n",
      "+------+-------------+-----------------+-------------------+-------------------+-------------+-----------------+----------+-------+--------------------+-------------------+--------------------+--------------------+-------------------+-----------------------+--------------------+\n",
      "|   1.0|         1001|            200.5|           New York|2023-09-01 12:30:00|  Credit Card|        Completed|       0.0|   null|                null|               null|                   2|             2600.25|               null|                   null|                   2|\n",
      "|   1.0|         1002|           5000.0|        Los Angeles|2023-09-02 13:15:00|   Debit Card|        Completed|       1.0|      1|Suspiciously High...|2023-09-02 14:00:00|                   2|             2600.25|2023-09-01 12:30:00|                89100.0|                   2|\n",
      "|   2.0|         1003|            150.0|      San Francisco|2023-09-03 15:45:00|       PayPal|          Pending|       0.0|   null|                null|               null|                   2|               115.0|               null|                   null|                   2|\n",
      "|   2.0|         1005|             80.0|              Miami|2023-09-05 09:20:00|   Debit Card|        Completed|       0.0|   null|                null|               null|                   2|               115.0|2023-09-03 15:45:00|               149700.0|                   2|\n",
      "|   3.0|         1004|            750.0|            Chicago|2023-09-04 18:00:00|  Credit Card|        Completed|       1.0|      2|    Unusual Location|2023-09-04 19:00:00|                   1|               750.0|               null|                   null|                   1|\n",
      "|   4.0|         1006|            350.0|            Houston|2023-09-05 11:30:00|  Credit Card|        Completed|       0.0|   null|                null|               null|                   2|              6175.0|               null|                   null|                   2|\n",
      "|   4.0|         1007|          12000.0|             Dallas|2023-09-06 12:00:00|  Credit Card|        Completed|       1.0|      3|Unusually High Am...|2023-09-06 12:30:00|                   2|              6175.0|2023-09-05 11:30:00|                88200.0|                   2|\n",
      "|   5.0|         1008|            100.0|             Boston|2023-09-06 14:45:00|   Debit Card|        Completed|       0.0|   null|                null|               null|                   2|               137.5|               null|                   null|                   2|\n",
      "|   5.0|         1012|            175.0|            Seattle|2023-09-10 18:30:00|  Credit Card|        Completed|       0.0|   null|                null|               null|                   2|               137.5|2023-09-06 14:45:00|               359100.0|                   2|\n",
      "|   6.0|         1009|            250.0|           New York|2023-09-07 15:30:00|       PayPal|          Pending|       0.0|   null|                null|               null|                   2|              2825.0|               null|                   null|                   2|\n",
      "|   6.0|         1011|           5400.0|          San Diego|2023-09-09 17:00:00|   Debit Card|        Completed|       1.0|      5|Multiple Large Tr...|2023-09-09 17:30:00|                   2|              2825.0|2023-09-07 15:30:00|               178200.0|                   2|\n",
      "|   7.0|         1010|            650.0|            Chicago|2023-09-08 16:00:00|  Credit Card|        Completed|       1.0|      4|Transaction in Un...|2023-09-08 16:30:00|                   1|               650.0|               null|                   null|                   1|\n",
      "+------+-------------+-----------------+-------------------+-------------------+-------------+-----------------+----------+-------+--------------------+-------------------+--------------------+--------------------+-------------------+-----------------------+--------------------+\n",
      "\n",
      "+------+-------------+-----------------+-------------------+-------------------+-------------+-----------------+----------+-------+--------------------+-------------------+--------------------+--------------------+-------------------+-----------------------+--------------------+--------------------+\n",
      "|UserID|TransactionID|TransactionAmount|TransactionLocation|    TransactionTime|PaymentMethod|TransactionStatus|FraudLabel|LabelID|         FraudReason|        DateLabeled|TransactionFrequency|AvgTransactionAmount|PrevTransactionTime|TimeBetweenTransactions|TransactionFrequency|AvgTransactionAmount|\n",
      "+------+-------------+-----------------+-------------------+-------------------+-------------+-----------------+----------+-------+--------------------+-------------------+--------------------+--------------------+-------------------+-----------------------+--------------------+--------------------+\n",
      "|   1.0|         1001|            200.5|           New York|2023-09-01 12:30:00|  Credit Card|        Completed|       0.0|   null|                null|               null|                   2|             2600.25|               null|                   null|                   2|             2600.25|\n",
      "|   1.0|         1002|           5000.0|        Los Angeles|2023-09-02 13:15:00|   Debit Card|        Completed|       1.0|      1|Suspiciously High...|2023-09-02 14:00:00|                   2|             2600.25|2023-09-01 12:30:00|                89100.0|                   2|             2600.25|\n",
      "|   2.0|         1003|            150.0|      San Francisco|2023-09-03 15:45:00|       PayPal|          Pending|       0.0|   null|                null|               null|                   2|               115.0|               null|                   null|                   2|               115.0|\n",
      "|   2.0|         1005|             80.0|              Miami|2023-09-05 09:20:00|   Debit Card|        Completed|       0.0|   null|                null|               null|                   2|               115.0|2023-09-03 15:45:00|               149700.0|                   2|               115.0|\n",
      "|   3.0|         1004|            750.0|            Chicago|2023-09-04 18:00:00|  Credit Card|        Completed|       1.0|      2|    Unusual Location|2023-09-04 19:00:00|                   1|               750.0|               null|                   null|                   1|               750.0|\n",
      "|   4.0|         1006|            350.0|            Houston|2023-09-05 11:30:00|  Credit Card|        Completed|       0.0|   null|                null|               null|                   2|              6175.0|               null|                   null|                   2|              6175.0|\n",
      "|   4.0|         1007|          12000.0|             Dallas|2023-09-06 12:00:00|  Credit Card|        Completed|       1.0|      3|Unusually High Am...|2023-09-06 12:30:00|                   2|              6175.0|2023-09-05 11:30:00|                88200.0|                   2|              6175.0|\n",
      "|   5.0|         1008|            100.0|             Boston|2023-09-06 14:45:00|   Debit Card|        Completed|       0.0|   null|                null|               null|                   2|               137.5|               null|                   null|                   2|               137.5|\n",
      "|   5.0|         1012|            175.0|            Seattle|2023-09-10 18:30:00|  Credit Card|        Completed|       0.0|   null|                null|               null|                   2|               137.5|2023-09-06 14:45:00|               359100.0|                   2|               137.5|\n",
      "|   6.0|         1009|            250.0|           New York|2023-09-07 15:30:00|       PayPal|          Pending|       0.0|   null|                null|               null|                   2|              2825.0|               null|                   null|                   2|              2825.0|\n",
      "|   6.0|         1011|           5400.0|          San Diego|2023-09-09 17:00:00|   Debit Card|        Completed|       1.0|      5|Multiple Large Tr...|2023-09-09 17:30:00|                   2|              2825.0|2023-09-07 15:30:00|               178200.0|                   2|              2825.0|\n",
      "|   7.0|         1010|            650.0|            Chicago|2023-09-08 16:00:00|  Credit Card|        Completed|       1.0|      4|Transaction in Un...|2023-09-08 16:30:00|                   1|               650.0|               null|                   null|                   1|               650.0|\n",
      "+------+-------------+-----------------+-------------------+-------------------+-------------+-----------------+----------+-------+--------------------+-------------------+--------------------+--------------------+-------------------+-----------------------+--------------------+--------------------+\n",
      "\n",
      "+------+-------------+-----------------+-------------------+-------------------+-------------+-----------------+----------+-------+--------------------+-------------------+--------------------+--------------------+-------------------+-----------------------+--------------------+--------------------+\n",
      "|UserID|TransactionID|TransactionAmount|TransactionLocation|    TransactionTime|PaymentMethod|TransactionStatus|FraudLabel|LabelID|         FraudReason|        DateLabeled|TransactionFrequency|AvgTransactionAmount|PrevTransactionTime|TimeBetweenTransactions|TransactionFrequency|AvgTransactionAmount|\n",
      "+------+-------------+-----------------+-------------------+-------------------+-------------+-----------------+----------+-------+--------------------+-------------------+--------------------+--------------------+-------------------+-----------------------+--------------------+--------------------+\n",
      "|   1.0|         1001|            200.5|           New York|2023-09-01 12:30:00|  Credit Card|        Completed|       0.0|   null|                null|               null|                   2|             2600.25|               null|                   null|                   2|             2600.25|\n",
      "|   1.0|         1002|           5000.0|        Los Angeles|2023-09-02 13:15:00|   Debit Card|        Completed|       1.0|      1|Suspiciously High...|2023-09-02 14:00:00|                   2|             2600.25|2023-09-01 12:30:00|                89100.0|                   2|             2600.25|\n",
      "|   2.0|         1003|            150.0|      San Francisco|2023-09-03 15:45:00|       PayPal|          Pending|       0.0|   null|                null|               null|                   2|               115.0|               null|                   null|                   2|               115.0|\n",
      "|   2.0|         1005|             80.0|              Miami|2023-09-05 09:20:00|   Debit Card|        Completed|       0.0|   null|                null|               null|                   2|               115.0|2023-09-03 15:45:00|               149700.0|                   2|               115.0|\n",
      "|   3.0|         1004|            750.0|            Chicago|2023-09-04 18:00:00|  Credit Card|        Completed|       1.0|      2|    Unusual Location|2023-09-04 19:00:00|                   1|               750.0|               null|                   null|                   1|               750.0|\n",
      "|   4.0|         1006|            350.0|            Houston|2023-09-05 11:30:00|  Credit Card|        Completed|       0.0|   null|                null|               null|                   2|              6175.0|               null|                   null|                   2|              6175.0|\n",
      "|   4.0|         1007|          12000.0|             Dallas|2023-09-06 12:00:00|  Credit Card|        Completed|       1.0|      3|Unusually High Am...|2023-09-06 12:30:00|                   2|              6175.0|2023-09-05 11:30:00|                88200.0|                   2|              6175.0|\n",
      "|   5.0|         1008|            100.0|             Boston|2023-09-06 14:45:00|   Debit Card|        Completed|       0.0|   null|                null|               null|                   2|               137.5|               null|                   null|                   2|               137.5|\n",
      "|   5.0|         1012|            175.0|            Seattle|2023-09-10 18:30:00|  Credit Card|        Completed|       0.0|   null|                null|               null|                   2|               137.5|2023-09-06 14:45:00|               359100.0|                   2|               137.5|\n",
      "|   6.0|         1009|            250.0|           New York|2023-09-07 15:30:00|       PayPal|          Pending|       0.0|   null|                null|               null|                   2|              2825.0|               null|                   null|                   2|              2825.0|\n",
      "|   6.0|         1011|           5400.0|          San Diego|2023-09-09 17:00:00|   Debit Card|        Completed|       1.0|      5|Multiple Large Tr...|2023-09-09 17:30:00|                   2|              2825.0|2023-09-07 15:30:00|               178200.0|                   2|              2825.0|\n",
      "|   7.0|         1010|            650.0|            Chicago|2023-09-08 16:00:00|  Credit Card|        Completed|       1.0|      4|Transaction in Un...|2023-09-08 16:30:00|                   1|               650.0|               null|                   null|                   1|               650.0|\n",
      "+------+-------------+-----------------+-------------------+-------------------+-------------+-----------------+----------+-------+--------------------+-------------------+--------------------+--------------------+-------------------+-----------------------+--------------------+--------------------+\n",
      "\n"
     ]
    }
   ],
   "source": [
    "#feature engineering\n",
    "transaction_frequency = labeled_data.groupBy(\"UserID\").count().withColumnRenamed(\"count\", \"TransactionFrequency\")\n",
    "labeled_data = labeled_data.join(transaction_frequency, \"UserID\", how=\"left\")\n",
    "labeled_data.show()\n",
    "\n",
    "average_transaction_amount = labeled_data.groupBy(\"UserID\").avg(\"TransactionAmount\").withColumnRenamed(\"avg(TransactionAmount)\", \"AvgTransactionAmount\")\n",
    "labeled_data = labeled_data.join(average_transaction_amount, \"UserID\", how=\"left\")\n",
    "labeled_data.show()\n",
    "\n",
    "from pyspark.sql.window import Window\n",
    "from pyspark.sql.functions import lag, unix_timestamp\n",
    "\n",
    "window = Window.partitionBy(\"UserID\").orderBy(\"TransactionTime\")\n",
    "\n",
    "# Compute time difference in seconds between consecutive transactions\n",
    "labeled_data = labeled_data.withColumn(\"PrevTransactionTime\", lag(\"TransactionTime\", 1).over(window))\n",
    "labeled_data = labeled_data.withColumn(\"TimeBetweenTransactions\", \n",
    "    (unix_timestamp(\"TransactionTime\") - unix_timestamp(\"PrevTransactionTime\")).cast(\"double\"))\n",
    "labeled_data.show()"
   ]
  },
  {
   "cell_type": "code",
   "execution_count": 0,
   "metadata": {
    "application/vnd.databricks.v1+cell": {
     "cellMetadata": {
      "byteLimit": 2048000,
      "rowLimit": 10000
     },
     "inputWidgets": {},
     "nuid": "001ce975-de10-4605-a84a-d07cc58a4928",
     "showTitle": false,
     "title": ""
    }
   },
   "outputs": [
    {
     "name": "stdout",
     "output_type": "stream",
     "text": [
      "Training Data: 9, Test Data: 3\n"
     ]
    }
   ],
   "source": [
    "# Split the dataset into training (80%) and test (20%)\n",
    "train_data, test_data = labeled_data.randomSplit([0.8, 0.2], seed=42)\n",
    "\n",
    "# Display the size of the training and test sets\n",
    "print(f\"Training Data: {train_data.count()}, Test Data: {test_data.count()}\")\n"
   ]
  },
  {
   "cell_type": "code",
   "execution_count": 0,
   "metadata": {
    "application/vnd.databricks.v1+cell": {
     "cellMetadata": {
      "byteLimit": 2048000,
      "rowLimit": 10000
     },
     "inputWidgets": {},
     "nuid": "373ecd21-bee3-472a-8921-9b9aee777567",
     "showTitle": false,
     "title": ""
    }
   },
   "outputs": [],
   "source": [
    "#model training\n",
    "from pyspark.ml.classification import RandomForestClassifier\n",
    "from pyspark.ml.feature import VectorAssembler\n",
    "from pyspark.ml import Pipeline\n",
    "\n",
    "# Combine features into a vector\n",
    "assembler = VectorAssembler(inputCols=[\"TransactionAmount\",\"TransactionID\"], outputCol=\"features\")\n",
    "\n",
    "# Initialize classifier\n",
    "rf = RandomForestClassifier(labelCol=\"FraudLabel\", featuresCol=\"features\")\n",
    "\n",
    "# Build pipeline\n",
    "pipeline = Pipeline(stages=[assembler, rf])\n",
    "\n",
    "# Train the model\n",
    "model = pipeline.fit(train_data)\n"
   ]
  },
  {
   "cell_type": "code",
   "execution_count": 0,
   "metadata": {
    "application/vnd.databricks.v1+cell": {
     "cellMetadata": {
      "byteLimit": 2048000,
      "rowLimit": 10000
     },
     "inputWidgets": {},
     "nuid": "41a900bb-ee40-4a54-abb6-bba8ee125ca1",
     "showTitle": false,
     "title": ""
    }
   },
   "outputs": [],
   "source": [
    "model.write().overwrite().save(\"/mnt/models/fraud_detection_model\")\n"
   ]
  },
  {
   "cell_type": "code",
   "execution_count": 0,
   "metadata": {
    "application/vnd.databricks.v1+cell": {
     "cellMetadata": {
      "byteLimit": 2048000,
      "rowLimit": 10000
     },
     "inputWidgets": {},
     "nuid": "eebfb96f-14b8-409d-b61a-6e5a0db69516",
     "showTitle": false,
     "title": ""
    }
   },
   "outputs": [],
   "source": [
    "# score real-time transactions\n",
    "from pyspark.ml.pipeline import PipelineModel\n",
    "from pyspark.sql.functions import col\n",
    "\n",
    "# Load the model\n",
    "loaded_model = PipelineModel.load(\"/mnt/models/fraud_detection_model\")\n",
    "\n",
    "from pyspark.sql.types import StructType, StructField, StringType, FloatType, TimestampType,IntegerType\n",
    "\n",
    "# Define the schema\n",
    "schema = StructType([\n",
    "    StructField(\"TransactionID\", IntegerType(), True),\n",
    "    StructField(\"UserID\", StringType(), True),\n",
    "    StructField(\"TransactionAmount\", FloatType(), True),\n",
    "    StructField(\"TransactionLocation\", StringType(), True),\n",
    "    StructField(\"TransactionTime\", TimestampType(), True),\n",
    "    StructField(\"PaymentMethod\", StringType(), True),\n",
    "    StructField(\"TransactionStatus\", StringType(), True)\n",
    "])\n",
    "\n",
    "# Create a streaming DataFrame with the defined schema\n",
    "streaming_data = spark.readStream \\\n",
    "    .schema(schema) \\\n",
    "    .option(\"header\", \"true\") \\\n",
    "    .csv(\"dbfs:/FileStore/shared_uploads/varshinie.1006@gmail.com/transaction.csv\") \n",
    "\n",
    "# Predict fraud in real-time data\n",
    "predictions = loaded_model.transform(streaming_data)\n"
   ]
  }
 ],
 "metadata": {
  "application/vnd.databricks.v1+notebook": {
   "dashboards": [],
   "environmentMetadata": null,
   "language": "python",
   "notebookMetadata": {
    "pythonIndentUnit": 4
   },
   "notebookName": "Project2",
   "widgets": {}
  },
  "language_info": {
   "name": "python"
  }
 },
 "nbformat": 4,
 "nbformat_minor": 0
}
